{
  "cells": [
    {
      "cell_type": "markdown",
      "metadata": {
        "id": "mrTFv5nPClXh"
      },
      "source": [
        "# **Homework**: Data talks club data engineering zoomcamp Data loading workshop\n",
        "\n",
        "Hello folks, let's practice what we learned - Loading data with the best practices of data engineering.\n",
        "\n",
        "Here are the exercises we will do\n",
        "\n",
        "\n"
      ]
    },
    {
      "cell_type": "markdown",
      "metadata": {
        "id": "wLF4iXf-NR7t"
      },
      "source": [
        "# 1. Use a generator\n",
        "\n",
        "Remember the concept of generator? Let's practice using them to futher our understanding of how they work.\n",
        "\n",
        "Let's define a generator and then run it as practice.\n",
        "\n",
        "**Answer the following questions:**\n",
        "\n",
        "- **Question 1: What is the sum of the outputs of the generator for limit = 5?**\n",
        "- **Question 2: What is the 13th number yielded**\n",
        "\n",
        "I suggest practicing these questions without GPT as the purpose is to further your learning."
      ]
    },
    {
      "cell_type": "code",
      "execution_count": 1,
      "metadata": {
        "colab": {
          "base_uri": "https://localhost:8080/"
        },
        "id": "wLng-bDJN4jf",
        "outputId": "547683cb-5f56-4815-a903-d0d9578eb1f9"
      },
      "outputs": [
        {
          "name": "stdout",
          "output_type": "stream",
          "text": [
            "1.0\n",
            "1.4142135623730951\n",
            "1.7320508075688772\n",
            "2.0\n",
            "2.23606797749979\n"
          ]
        }
      ],
      "source": [
        "def square_root_generator(limit):\n",
        "    n = 1\n",
        "    while n <= limit:\n",
        "        yield n ** 0.5\n",
        "        n += 1\n",
        "\n",
        "# Example usage:\n",
        "limit = 5\n",
        "generator = square_root_generator(limit)\n",
        "\n",
        "for sqrt_value in generator:\n",
        "    print(sqrt_value)"
      ]
    },
    {
      "cell_type": "markdown",
      "metadata": {
        "id": "xbe3q55zN43j"
      },
      "source": [
        "## Q1: What is the sum of the outputs of the generator for `limit = 5`?"
      ]
    },
    {
      "cell_type": "code",
      "execution_count": 2,
      "metadata": {},
      "outputs": [
        {
          "data": {
            "text/plain": [
              "8.382"
            ]
          },
          "execution_count": 2,
          "metadata": {},
          "output_type": "execute_result"
        }
      ],
      "source": [
        "round(sum(square_root_generator(5)), 3)"
      ]
    },
    {
      "cell_type": "markdown",
      "metadata": {},
      "source": [
        "## Q2: What is the 13th number yielded?"
      ]
    },
    {
      "cell_type": "code",
      "execution_count": 3,
      "metadata": {},
      "outputs": [
        {
          "data": {
            "text/plain": [
              "3.606"
            ]
          },
          "execution_count": 3,
          "metadata": {},
          "output_type": "execute_result"
        }
      ],
      "source": [
        "# The 13th number is at index 12 since lists start at index 0\n",
        "round(list(square_root_generator(13))[12], 3)"
      ]
    },
    {
      "cell_type": "markdown",
      "metadata": {
        "id": "vjWhILzGJMpK"
      },
      "source": [
        "# 2. Append a generator to a table with existing data\n",
        "\n",
        "\n",
        "Below you have 2 generators. You will be tasked to load them to duckdb and answer some questions from the data\n",
        "\n",
        "1. Load the first generator and calculate the sum of ages of all people. Make sure to only load it once.\n",
        "2. Append the second generator to the same table as the first.\n",
        "3. **After correctly appending the data, calculate the sum of all ages of people.**\n",
        "\n",
        "\n"
      ]
    },
    {
      "cell_type": "code",
      "execution_count": 4,
      "metadata": {
        "colab": {
          "base_uri": "https://localhost:8080/"
        },
        "id": "2MoaQcdLBEk6",
        "outputId": "d2b93dc1-d83f-44ea-aeff-fdf51d75f7aa"
      },
      "outputs": [
        {
          "name": "stdout",
          "output_type": "stream",
          "text": [
            "{'ID': 1, 'Name': 'Person_1', 'Age': 26, 'City': 'City_A'}\n",
            "{'ID': 2, 'Name': 'Person_2', 'Age': 27, 'City': 'City_A'}\n",
            "{'ID': 3, 'Name': 'Person_3', 'Age': 28, 'City': 'City_A'}\n",
            "{'ID': 4, 'Name': 'Person_4', 'Age': 29, 'City': 'City_A'}\n",
            "{'ID': 5, 'Name': 'Person_5', 'Age': 30, 'City': 'City_A'}\n",
            "{'ID': 3, 'Name': 'Person_3', 'Age': 33, 'City': 'City_B', 'Occupation': 'Job_3'}\n",
            "{'ID': 4, 'Name': 'Person_4', 'Age': 34, 'City': 'City_B', 'Occupation': 'Job_4'}\n",
            "{'ID': 5, 'Name': 'Person_5', 'Age': 35, 'City': 'City_B', 'Occupation': 'Job_5'}\n",
            "{'ID': 6, 'Name': 'Person_6', 'Age': 36, 'City': 'City_B', 'Occupation': 'Job_6'}\n",
            "{'ID': 7, 'Name': 'Person_7', 'Age': 37, 'City': 'City_B', 'Occupation': 'Job_7'}\n",
            "{'ID': 8, 'Name': 'Person_8', 'Age': 38, 'City': 'City_B', 'Occupation': 'Job_8'}\n"
          ]
        }
      ],
      "source": [
        "def people_1():\n",
        "    for i in range(1, 6):\n",
        "        yield {\"ID\": i, \"Name\": f\"Person_{i}\", \"Age\": 25 + i, \"City\": \"City_A\"}\n",
        "\n",
        "for person in people_1():\n",
        "    print(person)\n",
        "\n",
        "\n",
        "def people_2():\n",
        "    for i in range(3, 9):\n",
        "        yield {\"ID\": i, \"Name\": f\"Person_{i}\", \"Age\": 30 + i, \"City\": \"City_B\", \"Occupation\": f\"Job_{i}\"}\n",
        "\n",
        "\n",
        "for person in people_2():\n",
        "    print(person)"
      ]
    },
    {
      "cell_type": "markdown",
      "metadata": {
        "id": "vtdTIm4fvQCN"
      },
      "source": [
        "## Q3"
      ]
    },
    {
      "cell_type": "code",
      "execution_count": 5,
      "metadata": {},
      "outputs": [
        {
          "name": "stdout",
          "output_type": "stream",
          "text": [
            "Pipeline homework load step completed in 0.21 seconds\n",
            "1 load package(s) were loaded to destination duckdb and into dataset dlt_homework\n",
            "The duckdb destination used duckdb:////Users/cenvii/data-engineering-zoomcamp-2024/cohorts/2024/workshops/dlt_resources/homework.duckdb location to store data\n",
            "Load package 1708259112.823832 is LOADED and contains no failed jobs\n",
            "Pipeline homework load step completed in 0.16 seconds\n",
            "1 load package(s) were loaded to destination duckdb and into dataset dlt_homework\n",
            "The duckdb destination used duckdb:////Users/cenvii/data-engineering-zoomcamp-2024/cohorts/2024/workshops/dlt_resources/homework.duckdb location to store data\n",
            "Load package 1708259113.396485 is LOADED and contains no failed jobs\n"
          ]
        }
      ],
      "source": [
        "import dlt\n",
        "\n",
        "pipeline = dlt.pipeline(\n",
        "    pipeline_name=\"homework\",\n",
        "    destination=\"duckdb\",\n",
        "    dataset_name=\"dlt_homework\",\n",
        ")\n",
        "\n",
        "# Replace the entire table with data from the first generator on subsequent runs\n",
        "load_info1 = pipeline.run(\n",
        "    people_1,\n",
        "    table_name=\"people\",\n",
        "    write_disposition=\"replace\",\n",
        ")\n",
        "print(load_info1)\n",
        "\n",
        "# Append data from the second generator\n",
        "load_info2 = pipeline.run(\n",
        "    people_2,\n",
        "    table_name=\"people\",\n",
        "    write_disposition=\"append\"\n",
        ")\n",
        "print(load_info2)"
      ]
    },
    {
      "cell_type": "code",
      "execution_count": 6,
      "metadata": {},
      "outputs": [
        {
          "name": "stdout",
          "output_type": "stream",
          "text": [
            "Loaded tables:\n"
          ]
        },
        {
          "data": {
            "text/plain": [
              "┌─────────────────────┐\n",
              "│        name         │\n",
              "│       varchar       │\n",
              "├─────────────────────┤\n",
              "│ _dlt_loads          │\n",
              "│ _dlt_pipeline_state │\n",
              "│ _dlt_version        │\n",
              "│ people              │\n",
              "│ people_merged       │\n",
              "└─────────────────────┘"
            ]
          },
          "metadata": {},
          "output_type": "display_data"
        },
        {
          "data": {
            "text/plain": [
              "┌───────────┐\n",
              "│ row_count │\n",
              "│   int64   │\n",
              "├───────────┤\n",
              "│        11 │\n",
              "└───────────┘"
            ]
          },
          "metadata": {},
          "output_type": "display_data"
        },
        {
          "data": {
            "text/plain": [
              "┌───────────┐\n",
              "│ total_age │\n",
              "│  int128   │\n",
              "├───────────┤\n",
              "│       353 │\n",
              "└───────────┘"
            ]
          },
          "metadata": {},
          "output_type": "display_data"
        }
      ],
      "source": [
        "import duckdb\n",
        "\n",
        "conn = duckdb.connect(f\"{pipeline.pipeline_name}.duckdb\")\n",
        "\n",
        "conn.sql(f\"set search_path = '{pipeline.dataset_name}'\")\n",
        "print(\"Loaded tables:\")\n",
        "display(conn.sql(\"show tables\"))\n",
        "\n",
        "# Check that there are 11 rows\n",
        "display(conn.sql(\"select count(*) as row_count from people\"))\n",
        "\n",
        "# Calculate sum of all ages\n",
        "display(conn.sql(\"select sum(age) as total_age from people\"))"
      ]
    },
    {
      "cell_type": "markdown",
      "metadata": {
        "id": "pY4cFAWOSwN1"
      },
      "source": [
        "# 3. Merge a generator\n",
        "\n",
        "Re-use the generators from Exercise 2.\n",
        "\n",
        "A table's primary key needs to be created from the start, so load your data to a new table with primary key ID.\n",
        "\n",
        "Load your first generator first, and then load the second one with merge. Since they have overlapping IDs, some of the records from the first load should be replaced by the ones from the second load.\n",
        "\n",
        "After loading, you should have a total of 8 records, and ID 3 should have age 33.\n",
        "\n",
        "Question: **Calculate the sum of ages of all the people loaded as described above.**\n"
      ]
    },
    {
      "cell_type": "markdown",
      "metadata": {},
      "source": [
        "## Q4"
      ]
    },
    {
      "cell_type": "code",
      "execution_count": 7,
      "metadata": {},
      "outputs": [
        {
          "name": "stdout",
          "output_type": "stream",
          "text": [
            "Pipeline homework load step completed in 0.14 seconds\n",
            "1 load package(s) were loaded to destination duckdb and into dataset dlt_homework\n",
            "The duckdb destination used duckdb:////Users/cenvii/data-engineering-zoomcamp-2024/cohorts/2024/workshops/dlt_resources/homework.duckdb location to store data\n",
            "Load package 1708259113.971963 is LOADED and contains no failed jobs\n",
            "Pipeline homework load step completed in 0.26 seconds\n",
            "1 load package(s) were loaded to destination duckdb and into dataset dlt_homework\n",
            "The duckdb destination used duckdb:////Users/cenvii/data-engineering-zoomcamp-2024/cohorts/2024/workshops/dlt_resources/homework.duckdb location to store data\n",
            "Load package 1708259114.471505 is LOADED and contains no failed jobs\n"
          ]
        }
      ],
      "source": [
        "import dlt\n",
        "\n",
        "pipeline = dlt.pipeline(\n",
        "    pipeline_name=\"homework\",\n",
        "    destination=\"duckdb\",\n",
        "    dataset_name=\"dlt_homework\",\n",
        ")\n",
        "\n",
        "# Replace the entire table with data from the first generator on subsequent runs\n",
        "load_info1 = pipeline.run(\n",
        "    people_1,\n",
        "    table_name=\"people_merged\",\n",
        "    write_disposition=\"replace\",\n",
        "    primary_key=\"ID\",\n",
        ")\n",
        "print(load_info1)\n",
        "\n",
        "# Merge data from the second generator with the data above using `ID` as primary key\n",
        "load_info2 = pipeline.run(\n",
        "    people_2,\n",
        "    table_name=\"people_merged\",\n",
        "    write_disposition=\"merge\",\n",
        "    primary_key=\"ID\",\n",
        ")\n",
        "print(load_info2)"
      ]
    },
    {
      "cell_type": "code",
      "execution_count": 8,
      "metadata": {},
      "outputs": [
        {
          "name": "stdout",
          "output_type": "stream",
          "text": [
            "Loaded tables:\n"
          ]
        },
        {
          "data": {
            "text/plain": [
              "┌─────────────────────┐\n",
              "│        name         │\n",
              "│       varchar       │\n",
              "├─────────────────────┤\n",
              "│ _dlt_loads          │\n",
              "│ _dlt_pipeline_state │\n",
              "│ _dlt_version        │\n",
              "│ people              │\n",
              "│ people_merged       │\n",
              "└─────────────────────┘"
            ]
          },
          "metadata": {},
          "output_type": "display_data"
        },
        {
          "data": {
            "text/plain": [
              "┌───────────┐\n",
              "│ row_count │\n",
              "│   int64   │\n",
              "├───────────┤\n",
              "│         8 │\n",
              "└───────────┘"
            ]
          },
          "metadata": {},
          "output_type": "display_data"
        },
        {
          "data": {
            "text/plain": [
              "┌───────┐\n",
              "│  age  │\n",
              "│ int64 │\n",
              "├───────┤\n",
              "│    33 │\n",
              "└───────┘"
            ]
          },
          "metadata": {},
          "output_type": "display_data"
        },
        {
          "data": {
            "text/plain": [
              "┌───────────┐\n",
              "│ total_age │\n",
              "│  int128   │\n",
              "├───────────┤\n",
              "│       266 │\n",
              "└───────────┘"
            ]
          },
          "metadata": {},
          "output_type": "display_data"
        }
      ],
      "source": [
        "import duckdb\n",
        "\n",
        "conn = duckdb.connect(f\"{pipeline.pipeline_name}.duckdb\")\n",
        "\n",
        "conn.sql(f\"set search_path = '{pipeline.dataset_name}'\")\n",
        "print(\"Loaded tables:\")\n",
        "display(conn.sql(\"show tables\"))\n",
        "\n",
        "# Check that there are 8 rows after merging\n",
        "display(conn.sql(\"select count(*) as row_count from people_merged\"))\n",
        "\n",
        "# Check that ID 3 has age 33\n",
        "display(conn.sql(\"select age from people_merged where id = 3\"))\n",
        "\n",
        "# Calculate sum of all ages\n",
        "display(conn.sql(\"select sum(age) as total_age from people_merged\"))"
      ]
    },
    {
      "cell_type": "markdown",
      "metadata": {
        "id": "kKB2GTB9oVjr"
      },
      "source": [
        "# Solution: First make sure that the following modules are installed:"
      ]
    },
    {
      "cell_type": "code",
      "execution_count": null,
      "metadata": {
        "id": "xTVvtyqrfVNq"
      },
      "outputs": [],
      "source": [
        "#Install the dependencies\n",
        "# %%capture\n",
        "# %pip install dlt[duckdb]"
      ]
    },
    {
      "cell_type": "code",
      "execution_count": null,
      "metadata": {
        "id": "a2-PRBAkGC2K"
      },
      "outputs": [],
      "source": [
        "# to do: homework :)"
      ]
    },
    {
      "cell_type": "markdown",
      "metadata": {
        "id": "PoTJu4kbGG0z"
      },
      "source": [
        "Questions? difficulties? We are here to help.\n",
        "- DTC data engineering course channel: https://datatalks-club.slack.com/archives/C01FABYF2RG\n",
        "- dlt's DTC cohort channel: https://dlthub-community.slack.com/archives/C06GAEX2VNX"
      ]
    }
  ],
  "metadata": {
    "colab": {
      "provenance": []
    },
    "kernelspec": {
      "display_name": "Python 3",
      "name": "python3"
    },
    "language_info": {
      "codemirror_mode": {
        "name": "ipython",
        "version": 3
      },
      "file_extension": ".py",
      "mimetype": "text/x-python",
      "name": "python",
      "nbconvert_exporter": "python",
      "pygments_lexer": "ipython3",
      "version": "3.11.4"
    }
  },
  "nbformat": 4,
  "nbformat_minor": 0
}
