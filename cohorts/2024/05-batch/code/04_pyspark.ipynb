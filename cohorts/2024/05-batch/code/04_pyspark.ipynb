{
 "cells": [
  {
   "cell_type": "code",
   "execution_count": 1,
   "metadata": {},
   "outputs": [],
   "source": [
    "from pyspark.sql import SparkSession"
   ]
  },
  {
   "cell_type": "code",
   "execution_count": 2,
   "metadata": {},
   "outputs": [
    {
     "name": "stderr",
     "output_type": "stream",
     "text": [
      "24/03/16 15:46:45 WARN Utils: Your hostname, cenviiBook-Pro.local resolves to a loopback address: 127.0.0.1; using 192.168.1.102 instead (on interface en0)\n",
      "24/03/16 15:46:45 WARN Utils: Set SPARK_LOCAL_IP if you need to bind to another address\n",
      "Setting default log level to \"WARN\".\n",
      "To adjust logging level use sc.setLogLevel(newLevel). For SparkR, use setLogLevel(newLevel).\n",
      "24/03/16 15:46:45 WARN NativeCodeLoader: Unable to load native-hadoop library for your platform... using builtin-java classes where applicable\n"
     ]
    }
   ],
   "source": [
    "spark = SparkSession.builder.master(\"local[*]\").appName(\"test\").getOrCreate()"
   ]
  },
  {
   "cell_type": "code",
   "execution_count": 3,
   "metadata": {},
   "outputs": [],
   "source": [
    "# %%capture\n",
    "# !curl -LO https://github.com/DataTalksClub/nyc-tlc-data/releases/download/fhvhv/fhvhv_tripdata_2021-01.csv.gz"
   ]
  },
  {
   "cell_type": "code",
   "execution_count": 4,
   "metadata": {},
   "outputs": [],
   "source": [
    "# !gunzip -f fhvhv_tripdata_2021-01.csv.gz"
   ]
  },
  {
   "cell_type": "code",
   "execution_count": 5,
   "metadata": {},
   "outputs": [
    {
     "name": "stdout",
     "output_type": "stream",
     "text": [
      " 11908469 fhvhv_tripdata_2021-01.csv\n"
     ]
    }
   ],
   "source": [
    "!wc -l fhvhv_tripdata_2021-01.csv"
   ]
  },
  {
   "cell_type": "code",
   "execution_count": 6,
   "metadata": {},
   "outputs": [],
   "source": [
    "df = spark.read.option(\"header\", \"true\").csv(\"fhvhv_tripdata_2021-01.csv\")"
   ]
  },
  {
   "cell_type": "code",
   "execution_count": 7,
   "metadata": {},
   "outputs": [
    {
     "data": {
      "text/plain": [
       "[Row(hvfhs_license_num='HV0003', dispatching_base_num='B02682', pickup_datetime='2021-01-01 00:33:44', dropoff_datetime='2021-01-01 00:49:07', PULocationID='230', DOLocationID='166', SR_Flag=None),\n",
       " Row(hvfhs_license_num='HV0003', dispatching_base_num='B02682', pickup_datetime='2021-01-01 00:55:19', dropoff_datetime='2021-01-01 01:18:21', PULocationID='152', DOLocationID='167', SR_Flag=None),\n",
       " Row(hvfhs_license_num='HV0003', dispatching_base_num='B02764', pickup_datetime='2021-01-01 00:23:56', dropoff_datetime='2021-01-01 00:38:05', PULocationID='233', DOLocationID='142', SR_Flag=None),\n",
       " Row(hvfhs_license_num='HV0003', dispatching_base_num='B02764', pickup_datetime='2021-01-01 00:42:51', dropoff_datetime='2021-01-01 00:45:50', PULocationID='142', DOLocationID='143', SR_Flag=None),\n",
       " Row(hvfhs_license_num='HV0003', dispatching_base_num='B02764', pickup_datetime='2021-01-01 00:48:14', dropoff_datetime='2021-01-01 01:08:42', PULocationID='143', DOLocationID='78', SR_Flag=None)]"
      ]
     },
     "execution_count": 7,
     "metadata": {},
     "output_type": "execute_result"
    }
   ],
   "source": [
    "df.head(5)"
   ]
  },
  {
   "cell_type": "code",
   "execution_count": 8,
   "metadata": {},
   "outputs": [
    {
     "data": {
      "text/plain": [
       "StructType([StructField('hvfhs_license_num', StringType(), True), StructField('dispatching_base_num', StringType(), True), StructField('pickup_datetime', StringType(), True), StructField('dropoff_datetime', StringType(), True), StructField('PULocationID', StringType(), True), StructField('DOLocationID', StringType(), True), StructField('SR_Flag', StringType(), True)])"
      ]
     },
     "execution_count": 8,
     "metadata": {},
     "output_type": "execute_result"
    }
   ],
   "source": [
    "df.schema"
   ]
  },
  {
   "cell_type": "code",
   "execution_count": 9,
   "metadata": {},
   "outputs": [],
   "source": [
    "!head -n 1001 fhvhv_tripdata_2021-01.csv > head.csv"
   ]
  },
  {
   "cell_type": "code",
   "execution_count": 10,
   "metadata": {},
   "outputs": [
    {
     "name": "stdout",
     "output_type": "stream",
     "text": [
      "hvfhs_license_num,dispatching_base_num,pickup_datetime,dropoff_datetime,PULocationID,DOLocationID,SR_Flag\n",
      "HV0003,B02682,2021-01-01 00:33:44,2021-01-01 00:49:07,230,166,\n",
      "HV0003,B02682,2021-01-01 00:55:19,2021-01-01 01:18:21,152,167,\n",
      "HV0003,B02764,2021-01-01 00:23:56,2021-01-01 00:38:05,233,142,\n",
      "HV0003,B02764,2021-01-01 00:42:51,2021-01-01 00:45:50,142,143,\n",
      "HV0003,B02764,2021-01-01 00:48:14,2021-01-01 01:08:42,143,78,\n",
      "HV0005,B02510,2021-01-01 00:06:59,2021-01-01 00:43:01,88,42,\n",
      "HV0005,B02510,2021-01-01 00:50:00,2021-01-01 01:04:57,42,151,\n",
      "HV0003,B02764,2021-01-01 00:14:30,2021-01-01 00:50:27,71,226,\n",
      "HV0003,B02875,2021-01-01 00:22:54,2021-01-01 00:30:20,112,255,\n"
     ]
    }
   ],
   "source": [
    "!head -n 10 head.csv"
   ]
  },
  {
   "cell_type": "code",
   "execution_count": 11,
   "metadata": {},
   "outputs": [
    {
     "name": "stdout",
     "output_type": "stream",
     "text": [
      "    1001 head.csv\n"
     ]
    }
   ],
   "source": [
    "!wc -l head.csv"
   ]
  },
  {
   "cell_type": "code",
   "execution_count": 12,
   "metadata": {},
   "outputs": [],
   "source": [
    "import pandas as pd"
   ]
  },
  {
   "cell_type": "code",
   "execution_count": 13,
   "metadata": {},
   "outputs": [],
   "source": [
    "df_pandas = pd.read_csv(\"head.csv\")"
   ]
  },
  {
   "cell_type": "code",
   "execution_count": 14,
   "metadata": {},
   "outputs": [
    {
     "data": {
      "text/plain": [
       "hvfhs_license_num        object\n",
       "dispatching_base_num     object\n",
       "pickup_datetime          object\n",
       "dropoff_datetime         object\n",
       "PULocationID              int64\n",
       "DOLocationID              int64\n",
       "SR_Flag                 float64\n",
       "dtype: object"
      ]
     },
     "execution_count": 14,
     "metadata": {},
     "output_type": "execute_result"
    }
   ],
   "source": [
    "df_pandas.dtypes"
   ]
  },
  {
   "cell_type": "code",
   "execution_count": 15,
   "metadata": {},
   "outputs": [
    {
     "name": "stdout",
     "output_type": "stream",
     "text": [
      "+-----------------+--------------------+-------------------+-------------------+------------+------------+-------+\n",
      "|hvfhs_license_num|dispatching_base_num|    pickup_datetime|   dropoff_datetime|PULocationID|DOLocationID|SR_Flag|\n",
      "+-----------------+--------------------+-------------------+-------------------+------------+------------+-------+\n",
      "|           HV0003|              B02682|2021-01-01 00:33:44|2021-01-01 00:49:07|         230|         166|    NaN|\n",
      "|           HV0003|              B02682|2021-01-01 00:55:19|2021-01-01 01:18:21|         152|         167|    NaN|\n",
      "|           HV0003|              B02764|2021-01-01 00:23:56|2021-01-01 00:38:05|         233|         142|    NaN|\n",
      "|           HV0003|              B02764|2021-01-01 00:42:51|2021-01-01 00:45:50|         142|         143|    NaN|\n",
      "|           HV0003|              B02764|2021-01-01 00:48:14|2021-01-01 01:08:42|         143|          78|    NaN|\n",
      "|           HV0005|              B02510|2021-01-01 00:06:59|2021-01-01 00:43:01|          88|          42|    NaN|\n",
      "|           HV0005|              B02510|2021-01-01 00:50:00|2021-01-01 01:04:57|          42|         151|    NaN|\n",
      "|           HV0003|              B02764|2021-01-01 00:14:30|2021-01-01 00:50:27|          71|         226|    NaN|\n",
      "|           HV0003|              B02875|2021-01-01 00:22:54|2021-01-01 00:30:20|         112|         255|    NaN|\n",
      "|           HV0003|              B02875|2021-01-01 00:40:12|2021-01-01 00:53:31|         255|         232|    NaN|\n",
      "|           HV0003|              B02875|2021-01-01 00:56:45|2021-01-01 01:17:42|         232|         198|    NaN|\n",
      "|           HV0003|              B02835|2021-01-01 00:29:04|2021-01-01 00:36:27|         113|          48|    NaN|\n",
      "|           HV0003|              B02835|2021-01-01 00:48:56|2021-01-01 00:59:12|         239|          75|    NaN|\n",
      "|           HV0004|              B02800|2021-01-01 00:15:24|2021-01-01 00:38:31|         181|         237|    NaN|\n",
      "|           HV0004|              B02800|2021-01-01 00:45:00|2021-01-01 01:06:45|         236|          68|    NaN|\n",
      "|           HV0003|              B02682|2021-01-01 00:11:53|2021-01-01 00:18:06|         256|         148|    NaN|\n",
      "|           HV0003|              B02682|2021-01-01 00:28:31|2021-01-01 00:41:40|          79|          80|    NaN|\n",
      "|           HV0003|              B02682|2021-01-01 00:50:49|2021-01-01 00:55:59|          17|         217|    NaN|\n",
      "|           HV0005|              B02510|2021-01-01 00:08:40|2021-01-01 00:39:39|          62|          29|    NaN|\n",
      "|           HV0003|              B02836|2021-01-01 00:53:48|2021-01-01 01:11:40|          22|          22|    NaN|\n",
      "+-----------------+--------------------+-------------------+-------------------+------------+------------+-------+\n",
      "only showing top 20 rows\n",
      "\n"
     ]
    },
    {
     "name": "stderr",
     "output_type": "stream",
     "text": [
      "                                                                                \r"
     ]
    }
   ],
   "source": [
    "spark.createDataFrame(df_pandas).show()"
   ]
  },
  {
   "cell_type": "code",
   "execution_count": 16,
   "metadata": {},
   "outputs": [
    {
     "data": {
      "text/plain": [
       "StructType([StructField('hvfhs_license_num', StringType(), True), StructField('dispatching_base_num', StringType(), True), StructField('pickup_datetime', StringType(), True), StructField('dropoff_datetime', StringType(), True), StructField('PULocationID', LongType(), True), StructField('DOLocationID', LongType(), True), StructField('SR_Flag', DoubleType(), True)])"
      ]
     },
     "execution_count": 16,
     "metadata": {},
     "output_type": "execute_result"
    }
   ],
   "source": [
    "spark.createDataFrame(df_pandas).schema"
   ]
  },
  {
   "cell_type": "code",
   "execution_count": 17,
   "metadata": {},
   "outputs": [],
   "source": [
    "from pyspark.sql import types"
   ]
  },
  {
   "cell_type": "code",
   "execution_count": 18,
   "metadata": {},
   "outputs": [],
   "source": [
    "schema = types.StructType(\n",
    "    [\n",
    "        types.StructField(\"hvfhs_license_num\",\n",
    "                          types.StringType(), nullable=True),\n",
    "        types.StructField(\"dispatching_base_num\",\n",
    "                          types.StringType(), nullable=True),\n",
    "        types.StructField(\"pickup_datetime\",\n",
    "                          types.TimestampType(), nullable=True),\n",
    "        types.StructField(\"dropoff_datetime\",\n",
    "                          types.TimestampType(), nullable=True),\n",
    "        types.StructField(\"PULocationID\", types.IntegerType(), nullable=True),\n",
    "        types.StructField(\"DOLocationID\", types.IntegerType(), nullable=True),\n",
    "        types.StructField(\"SR_Flag\", types.StringType(), nullable=True),\n",
    "    ]\n",
    ")"
   ]
  },
  {
   "cell_type": "code",
   "execution_count": 19,
   "metadata": {},
   "outputs": [],
   "source": [
    "df = (\n",
    "    spark.read.option(\n",
    "        \"header\",\n",
    "        \"true\",\n",
    "    )\n",
    "    .schema(schema)\n",
    "    .csv(\"fhvhv_tripdata_2021-01.csv\")\n",
    ")"
   ]
  },
  {
   "cell_type": "code",
   "execution_count": 20,
   "metadata": {},
   "outputs": [
    {
     "data": {
      "text/plain": [
       "[Row(hvfhs_license_num='HV0003', dispatching_base_num='B02682', pickup_datetime=datetime.datetime(2021, 1, 1, 0, 33, 44), dropoff_datetime=datetime.datetime(2021, 1, 1, 0, 49, 7), PULocationID=230, DOLocationID=166, SR_Flag=None),\n",
       " Row(hvfhs_license_num='HV0003', dispatching_base_num='B02682', pickup_datetime=datetime.datetime(2021, 1, 1, 0, 55, 19), dropoff_datetime=datetime.datetime(2021, 1, 1, 1, 18, 21), PULocationID=152, DOLocationID=167, SR_Flag=None),\n",
       " Row(hvfhs_license_num='HV0003', dispatching_base_num='B02764', pickup_datetime=datetime.datetime(2021, 1, 1, 0, 23, 56), dropoff_datetime=datetime.datetime(2021, 1, 1, 0, 38, 5), PULocationID=233, DOLocationID=142, SR_Flag=None),\n",
       " Row(hvfhs_license_num='HV0003', dispatching_base_num='B02764', pickup_datetime=datetime.datetime(2021, 1, 1, 0, 42, 51), dropoff_datetime=datetime.datetime(2021, 1, 1, 0, 45, 50), PULocationID=142, DOLocationID=143, SR_Flag=None),\n",
       " Row(hvfhs_license_num='HV0003', dispatching_base_num='B02764', pickup_datetime=datetime.datetime(2021, 1, 1, 0, 48, 14), dropoff_datetime=datetime.datetime(2021, 1, 1, 1, 8, 42), PULocationID=143, DOLocationID=78, SR_Flag=None),\n",
       " Row(hvfhs_license_num='HV0005', dispatching_base_num='B02510', pickup_datetime=datetime.datetime(2021, 1, 1, 0, 6, 59), dropoff_datetime=datetime.datetime(2021, 1, 1, 0, 43, 1), PULocationID=88, DOLocationID=42, SR_Flag=None),\n",
       " Row(hvfhs_license_num='HV0005', dispatching_base_num='B02510', pickup_datetime=datetime.datetime(2021, 1, 1, 0, 50), dropoff_datetime=datetime.datetime(2021, 1, 1, 1, 4, 57), PULocationID=42, DOLocationID=151, SR_Flag=None),\n",
       " Row(hvfhs_license_num='HV0003', dispatching_base_num='B02764', pickup_datetime=datetime.datetime(2021, 1, 1, 0, 14, 30), dropoff_datetime=datetime.datetime(2021, 1, 1, 0, 50, 27), PULocationID=71, DOLocationID=226, SR_Flag=None),\n",
       " Row(hvfhs_license_num='HV0003', dispatching_base_num='B02875', pickup_datetime=datetime.datetime(2021, 1, 1, 0, 22, 54), dropoff_datetime=datetime.datetime(2021, 1, 1, 0, 30, 20), PULocationID=112, DOLocationID=255, SR_Flag=None),\n",
       " Row(hvfhs_license_num='HV0003', dispatching_base_num='B02875', pickup_datetime=datetime.datetime(2021, 1, 1, 0, 40, 12), dropoff_datetime=datetime.datetime(2021, 1, 1, 0, 53, 31), PULocationID=255, DOLocationID=232, SR_Flag=None)]"
      ]
     },
     "execution_count": 20,
     "metadata": {},
     "output_type": "execute_result"
    }
   ],
   "source": [
    "df.head(10)"
   ]
  },
  {
   "cell_type": "code",
   "execution_count": 21,
   "metadata": {},
   "outputs": [],
   "source": [
    "df = df.repartition(24)"
   ]
  },
  {
   "cell_type": "code",
   "execution_count": 22,
   "metadata": {},
   "outputs": [
    {
     "name": "stderr",
     "output_type": "stream",
     "text": [
      "24/03/16 15:46:58 WARN GarbageCollectionMetrics: To enable non-built-in garbage collector(s) List(G1 Concurrent GC), users should configure it(them) to spark.eventLog.gcMetrics.youngGenerationGarbageCollectors or spark.eventLog.gcMetrics.oldGenerationGarbageCollectors\n",
      "24/03/16 15:47:00 WARN MemoryManager: Total allocation exceeds 95.00% (1,020,054,720 bytes) of heap memory\n",
      "Scaling row group sizes to 95.00% for 8 writers\n",
      "24/03/16 15:47:00 WARN MemoryManager: Total allocation exceeds 95.00% (1,020,054,720 bytes) of heap memory\n",
      "Scaling row group sizes to 84.44% for 9 writers\n",
      "24/03/16 15:47:00 WARN MemoryManager: Total allocation exceeds 95.00% (1,020,054,720 bytes) of heap memory\n",
      "Scaling row group sizes to 76.00% for 10 writers\n",
      "24/03/16 15:47:01 WARN MemoryManager: Total allocation exceeds 95.00% (1,020,054,720 bytes) of heap memory\n",
      "Scaling row group sizes to 84.44% for 9 writers\n",
      "24/03/16 15:47:01 WARN MemoryManager: Total allocation exceeds 95.00% (1,020,054,720 bytes) of heap memory\n",
      "Scaling row group sizes to 95.00% for 8 writers\n",
      "24/03/16 15:47:02 WARN MemoryManager: Total allocation exceeds 95.00% (1,020,054,720 bytes) of heap memory\n",
      "Scaling row group sizes to 95.00% for 8 writers\n",
      "24/03/16 15:47:02 WARN MemoryManager: Total allocation exceeds 95.00% (1,020,054,720 bytes) of heap memory\n",
      "Scaling row group sizes to 84.44% for 9 writers\n",
      "24/03/16 15:47:02 WARN MemoryManager: Total allocation exceeds 95.00% (1,020,054,720 bytes) of heap memory\n",
      "Scaling row group sizes to 76.00% for 10 writers\n",
      "24/03/16 15:47:02 WARN MemoryManager: Total allocation exceeds 95.00% (1,020,054,720 bytes) of heap memory\n",
      "Scaling row group sizes to 84.44% for 9 writers\n",
      "24/03/16 15:47:02 WARN MemoryManager: Total allocation exceeds 95.00% (1,020,054,720 bytes) of heap memory\n",
      "Scaling row group sizes to 95.00% for 8 writers\n",
      "                                                                                \r"
     ]
    }
   ],
   "source": [
    "df.write.parquet(\"fhvhv/2021/01/\", mode=\"overwrite\")"
   ]
  },
  {
   "cell_type": "code",
   "execution_count": 23,
   "metadata": {},
   "outputs": [
    {
     "data": {
      "text/plain": [
       "DataFrame[hvfhs_license_num: string, dispatching_base_num: string, pickup_datetime: timestamp, dropoff_datetime: timestamp, PULocationID: int, DOLocationID: int, SR_Flag: string]"
      ]
     },
     "execution_count": 23,
     "metadata": {},
     "output_type": "execute_result"
    }
   ],
   "source": [
    "df = spark.read.parquet(\"fhvhv/2021/01/\")\n",
    "df"
   ]
  },
  {
   "cell_type": "code",
   "execution_count": 24,
   "metadata": {},
   "outputs": [
    {
     "name": "stdout",
     "output_type": "stream",
     "text": [
      "+-----------------+--------------------+-------------------+-------------------+------------+------------+-------+\n",
      "|hvfhs_license_num|dispatching_base_num|    pickup_datetime|   dropoff_datetime|PULocationID|DOLocationID|SR_Flag|\n",
      "+-----------------+--------------------+-------------------+-------------------+------------+------------+-------+\n",
      "|           HV0003|              B02880|2021-01-03 01:03:21|2021-01-03 01:14:58|         216|          38|   NULL|\n",
      "|           HV0005|              B02510|2021-01-03 23:19:19|2021-01-03 23:27:32|          63|         177|   NULL|\n",
      "|           HV0005|              B02510|2021-01-03 17:40:49|2021-01-03 18:01:41|          82|          28|   NULL|\n",
      "|           HV0003|              B02875|2021-01-04 09:58:02|2021-01-04 10:13:18|          60|         242|   NULL|\n",
      "|           HV0003|              B02867|2021-01-01 02:37:46|2021-01-01 02:48:17|          28|         130|   NULL|\n",
      "|           HV0003|              B02884|2021-01-01 02:14:10|2021-01-01 02:24:55|         239|         262|   NULL|\n",
      "|           HV0003|              B02866|2021-01-02 20:20:37|2021-01-02 20:28:17|          26|         227|   NULL|\n",
      "|           HV0005|              B02510|2021-01-04 00:27:13|2021-01-04 00:43:48|          10|         226|   NULL|\n",
      "|           HV0003|              B02617|2021-01-03 15:43:48|2021-01-03 15:56:31|          62|          49|   NULL|\n",
      "|           HV0003|              B02869|2021-01-02 08:20:31|2021-01-02 08:28:55|         181|         188|   NULL|\n",
      "|           HV0003|              B02877|2021-01-01 01:11:14|2021-01-01 01:15:55|          69|          69|   NULL|\n",
      "|           HV0005|              B02510|2021-01-03 02:35:39|2021-01-03 02:52:28|          79|         261|   NULL|\n",
      "|           HV0005|              B02510|2021-01-01 07:23:31|2021-01-01 07:30:46|         222|          77|   NULL|\n",
      "|           HV0003|              B02878|2021-01-02 06:33:55|2021-01-02 06:47:42|          81|         174|   NULL|\n",
      "|           HV0003|              B02877|2021-01-03 17:43:58|2021-01-03 17:50:50|         255|         256|   NULL|\n",
      "|           HV0003|              B02869|2021-01-02 12:26:08|2021-01-02 12:31:39|         240|         174|   NULL|\n",
      "|           HV0003|              B02875|2021-01-03 20:13:29|2021-01-03 20:39:19|          71|          65|   NULL|\n",
      "|           HV0003|              B02872|2021-01-03 05:23:20|2021-01-03 05:49:44|         256|         132|   NULL|\n",
      "|           HV0005|              B02510|2021-01-01 08:32:51|2021-01-01 08:39:36|         136|          18|   NULL|\n",
      "|           HV0003|              B02871|2021-01-03 07:53:07|2021-01-03 07:58:28|         177|         225|   NULL|\n",
      "+-----------------+--------------------+-------------------+-------------------+------------+------------+-------+\n",
      "only showing top 20 rows\n",
      "\n"
     ]
    }
   ],
   "source": [
    "df.show()"
   ]
  },
  {
   "cell_type": "code",
   "execution_count": 25,
   "metadata": {},
   "outputs": [
    {
     "name": "stdout",
     "output_type": "stream",
     "text": [
      "root\n",
      " |-- hvfhs_license_num: string (nullable = true)\n",
      " |-- dispatching_base_num: string (nullable = true)\n",
      " |-- pickup_datetime: timestamp (nullable = true)\n",
      " |-- dropoff_datetime: timestamp (nullable = true)\n",
      " |-- PULocationID: integer (nullable = true)\n",
      " |-- DOLocationID: integer (nullable = true)\n",
      " |-- SR_Flag: string (nullable = true)\n",
      "\n"
     ]
    }
   ],
   "source": [
    "df.printSchema()"
   ]
  },
  {
   "cell_type": "code",
   "execution_count": 26,
   "metadata": {},
   "outputs": [
    {
     "name": "stdout",
     "output_type": "stream",
     "text": [
      "hvfhs_license_num,dispatching_base_num,pickup_datetime,dropoff_datetime,PULocationID,DOLocationID,SR_Flag\n",
      "HV0003,B02682,2021-01-01 00:33:44,2021-01-01 00:49:07,230,166,\n",
      "HV0003,B02682,2021-01-01 00:55:19,2021-01-01 01:18:21,152,167,\n",
      "HV0003,B02764,2021-01-01 00:23:56,2021-01-01 00:38:05,233,142,\n",
      "HV0003,B02764,2021-01-01 00:42:51,2021-01-01 00:45:50,142,143,\n",
      "HV0003,B02764,2021-01-01 00:48:14,2021-01-01 01:08:42,143,78,\n",
      "HV0005,B02510,2021-01-01 00:06:59,2021-01-01 00:43:01,88,42,\n",
      "HV0005,B02510,2021-01-01 00:50:00,2021-01-01 01:04:57,42,151,\n",
      "HV0003,B02764,2021-01-01 00:14:30,2021-01-01 00:50:27,71,226,\n",
      "HV0003,B02875,2021-01-01 00:22:54,2021-01-01 00:30:20,112,255,\n"
     ]
    }
   ],
   "source": [
    "!head -n 10 head.csv"
   ]
  },
  {
   "cell_type": "code",
   "execution_count": null,
   "metadata": {},
   "outputs": [],
   "source": []
  },
  {
   "cell_type": "code",
   "execution_count": 27,
   "metadata": {},
   "outputs": [
    {
     "name": "stdout",
     "output_type": "stream",
     "text": [
      "+-------------------+-------------------+------------+------------+\n",
      "|    pickup_datetime|   dropoff_datetime|PULocationID|DOLocationID|\n",
      "+-------------------+-------------------+------------+------------+\n",
      "|2021-01-03 01:03:21|2021-01-03 01:14:58|         216|          38|\n",
      "|2021-01-04 09:58:02|2021-01-04 10:13:18|          60|         242|\n",
      "|2021-01-01 02:37:46|2021-01-01 02:48:17|          28|         130|\n",
      "|2021-01-01 02:14:10|2021-01-01 02:24:55|         239|         262|\n",
      "|2021-01-02 20:20:37|2021-01-02 20:28:17|          26|         227|\n",
      "|2021-01-03 15:43:48|2021-01-03 15:56:31|          62|          49|\n",
      "|2021-01-02 08:20:31|2021-01-02 08:28:55|         181|         188|\n",
      "|2021-01-01 01:11:14|2021-01-01 01:15:55|          69|          69|\n",
      "|2021-01-02 06:33:55|2021-01-02 06:47:42|          81|         174|\n",
      "|2021-01-03 17:43:58|2021-01-03 17:50:50|         255|         256|\n",
      "|2021-01-02 12:26:08|2021-01-02 12:31:39|         240|         174|\n",
      "|2021-01-03 20:13:29|2021-01-03 20:39:19|          71|          65|\n",
      "|2021-01-03 05:23:20|2021-01-03 05:49:44|         256|         132|\n",
      "|2021-01-03 07:53:07|2021-01-03 07:58:28|         177|         225|\n",
      "|2021-01-02 21:40:01|2021-01-02 21:53:06|         164|         263|\n",
      "|2021-01-01 02:32:13|2021-01-01 02:50:23|          25|         246|\n",
      "|2021-01-01 22:59:25|2021-01-01 23:29:08|          89|         226|\n",
      "|2021-01-02 22:25:23|2021-01-02 22:56:19|          39|         160|\n",
      "|2021-01-01 03:55:04|2021-01-01 04:04:41|         235|          94|\n",
      "|2021-01-04 08:27:50|2021-01-04 08:37:02|          95|          95|\n",
      "+-------------------+-------------------+------------+------------+\n",
      "only showing top 20 rows\n",
      "\n"
     ]
    }
   ],
   "source": [
    "df.select(\n",
    "    \"pickup_datetime\",\n",
    "    \"dropoff_datetime\",\n",
    "    \"PULocationID\",\n",
    "    \"DOLocationID\",\n",
    ").filter(df.hvfhs_license_num == \"HV0003\").show()"
   ]
  },
  {
   "cell_type": "code",
   "execution_count": 28,
   "metadata": {},
   "outputs": [
    {
     "data": {
      "text/plain": [
       "[Row(pickup_datetime=datetime.datetime(2021, 1, 3, 1, 3, 21), dropoff_datetime=datetime.datetime(2021, 1, 3, 1, 14, 58), PULocationID=216, DOLocationID=38),\n",
       " Row(pickup_datetime=datetime.datetime(2021, 1, 4, 9, 58, 2), dropoff_datetime=datetime.datetime(2021, 1, 4, 10, 13, 18), PULocationID=60, DOLocationID=242),\n",
       " Row(pickup_datetime=datetime.datetime(2021, 1, 1, 2, 37, 46), dropoff_datetime=datetime.datetime(2021, 1, 1, 2, 48, 17), PULocationID=28, DOLocationID=130),\n",
       " Row(pickup_datetime=datetime.datetime(2021, 1, 1, 2, 14, 10), dropoff_datetime=datetime.datetime(2021, 1, 1, 2, 24, 55), PULocationID=239, DOLocationID=262),\n",
       " Row(pickup_datetime=datetime.datetime(2021, 1, 2, 20, 20, 37), dropoff_datetime=datetime.datetime(2021, 1, 2, 20, 28, 17), PULocationID=26, DOLocationID=227)]"
      ]
     },
     "execution_count": 28,
     "metadata": {},
     "output_type": "execute_result"
    }
   ],
   "source": [
    "df.select(\n",
    "    \"pickup_datetime\",\n",
    "    \"dropoff_datetime\",\n",
    "    \"PULocationID\",\n",
    "    \"DOLocationID\",\n",
    ").filter(df.hvfhs_license_num == \"HV0003\").take(5)"
   ]
  },
  {
   "cell_type": "code",
   "execution_count": 29,
   "metadata": {},
   "outputs": [],
   "source": [
    "from pyspark.sql import functions as F"
   ]
  },
  {
   "cell_type": "code",
   "execution_count": 30,
   "metadata": {},
   "outputs": [
    {
     "name": "stdout",
     "output_type": "stream",
     "text": [
      "+-----------+------------+------------+------------+\n",
      "|pickup_date|dropoff_date|PULocationID|DOLocationID|\n",
      "+-----------+------------+------------+------------+\n",
      "| 2021-01-03|  2021-01-03|         216|          38|\n",
      "| 2021-01-03|  2021-01-03|          63|         177|\n",
      "| 2021-01-03|  2021-01-03|          82|          28|\n",
      "| 2021-01-04|  2021-01-04|          60|         242|\n",
      "| 2021-01-01|  2021-01-01|          28|         130|\n",
      "| 2021-01-01|  2021-01-01|         239|         262|\n",
      "| 2021-01-02|  2021-01-02|          26|         227|\n",
      "| 2021-01-04|  2021-01-04|          10|         226|\n",
      "| 2021-01-03|  2021-01-03|          62|          49|\n",
      "| 2021-01-02|  2021-01-02|         181|         188|\n",
      "| 2021-01-01|  2021-01-01|          69|          69|\n",
      "| 2021-01-03|  2021-01-03|          79|         261|\n",
      "| 2021-01-01|  2021-01-01|         222|          77|\n",
      "| 2021-01-02|  2021-01-02|          81|         174|\n",
      "| 2021-01-03|  2021-01-03|         255|         256|\n",
      "| 2021-01-02|  2021-01-02|         240|         174|\n",
      "| 2021-01-03|  2021-01-03|          71|          65|\n",
      "| 2021-01-03|  2021-01-03|         256|         132|\n",
      "| 2021-01-01|  2021-01-01|         136|          18|\n",
      "| 2021-01-03|  2021-01-03|         177|         225|\n",
      "+-----------+------------+------------+------------+\n",
      "only showing top 20 rows\n",
      "\n"
     ]
    }
   ],
   "source": [
    "df.withColumn(\n",
    "    \"pickup_date\",\n",
    "    F.to_date(df.pickup_datetime),\n",
    ").withColumn(\n",
    "    \"dropoff_date\",\n",
    "    F.to_date(df.dropoff_datetime),\n",
    ").select(\n",
    "    \"pickup_date\",\n",
    "    \"dropoff_date\",\n",
    "    \"PULocationID\",\n",
    "    \"DOLocationID\",\n",
    ").show()"
   ]
  },
  {
   "cell_type": "code",
   "execution_count": 31,
   "metadata": {},
   "outputs": [],
   "source": [
    "def crazy_stuff(base_num: str) -> str:\n",
    "    num = int(base_num[1:])\n",
    "    if num % 7 == 0:\n",
    "        return f\"s/{num:03x}\"\n",
    "    if num % 3 == 0:\n",
    "        return f\"a/{num:03x}\"\n",
    "    return f\"e/{num:03x}\""
   ]
  },
  {
   "cell_type": "code",
   "execution_count": 32,
   "metadata": {},
   "outputs": [
    {
     "data": {
      "text/plain": [
       "'s/b44'"
      ]
     },
     "execution_count": 32,
     "metadata": {},
     "output_type": "execute_result"
    }
   ],
   "source": [
    "crazy_stuff(\"B02884\")"
   ]
  },
  {
   "cell_type": "code",
   "execution_count": 33,
   "metadata": {},
   "outputs": [],
   "source": [
    "crazy_stuff_udf = F.udf(crazy_stuff, returnType=types.StringType())"
   ]
  },
  {
   "cell_type": "code",
   "execution_count": 34,
   "metadata": {},
   "outputs": [
    {
     "name": "stdout",
     "output_type": "stream",
     "text": [
      "+-------+-----------+------------+------------+------------+\n",
      "|base_id|pickup_date|dropoff_date|PULocationID|DOLocationID|\n",
      "+-------+-----------+------------+------------+------------+\n",
      "|  a/b40| 2021-01-03|  2021-01-03|         216|          38|\n",
      "|  e/9ce| 2021-01-03|  2021-01-03|          63|         177|\n",
      "|  e/9ce| 2021-01-03|  2021-01-03|          82|          28|\n",
      "|  e/b3b| 2021-01-04|  2021-01-04|          60|         242|\n",
      "|  e/b33| 2021-01-01|  2021-01-01|          28|         130|\n",
      "|  s/b44| 2021-01-01|  2021-01-01|         239|         262|\n",
      "|  e/b32| 2021-01-02|  2021-01-02|          26|         227|\n",
      "|  e/9ce| 2021-01-04|  2021-01-04|          10|         226|\n",
      "|  e/a39| 2021-01-03|  2021-01-03|          62|          49|\n",
      "|  e/b35| 2021-01-02|  2021-01-02|         181|         188|\n",
      "|  s/b3d| 2021-01-01|  2021-01-01|          69|          69|\n",
      "|  e/9ce| 2021-01-03|  2021-01-03|          79|         261|\n",
      "|  e/9ce| 2021-01-01|  2021-01-01|         222|          77|\n",
      "|  e/b3e| 2021-01-02|  2021-01-02|          81|         174|\n",
      "|  s/b3d| 2021-01-03|  2021-01-03|         255|         256|\n",
      "|  e/b35| 2021-01-02|  2021-01-02|         240|         174|\n",
      "|  e/b3b| 2021-01-03|  2021-01-03|          71|          65|\n",
      "|  e/b38| 2021-01-03|  2021-01-03|         256|         132|\n",
      "|  e/9ce| 2021-01-01|  2021-01-01|         136|          18|\n",
      "|  a/b37| 2021-01-03|  2021-01-03|         177|         225|\n",
      "+-------+-----------+------------+------------+------------+\n",
      "only showing top 20 rows\n",
      "\n"
     ]
    }
   ],
   "source": [
    "df.withColumn(\n",
    "    \"pickup_date\",\n",
    "    F.to_date(df.pickup_datetime),\n",
    ").withColumn(\n",
    "    \"dropoff_date\",\n",
    "    F.to_date(df.dropoff_datetime),\n",
    ").withColumn(\"base_id\", crazy_stuff_udf(df.dispatching_base_num)).select(\n",
    "    \"base_id\",\n",
    "    \"pickup_date\",\n",
    "    \"dropoff_date\",\n",
    "    \"PULocationID\",\n",
    "    \"DOLocationID\",\n",
    ").show()"
   ]
  }
 ],
 "metadata": {
  "kernelspec": {
   "display_name": "data-engineering-zoomcamp-2024-40ZULgQY-py3.11",
   "language": "python",
   "name": "python3"
  },
  "language_info": {
   "codemirror_mode": {
    "name": "ipython",
    "version": 3
   },
   "file_extension": ".py",
   "mimetype": "text/x-python",
   "name": "python",
   "nbconvert_exporter": "python",
   "pygments_lexer": "ipython3",
   "version": "3.11.4"
  }
 },
 "nbformat": 4,
 "nbformat_minor": 2
}
